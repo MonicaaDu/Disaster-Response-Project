{
 "cells": [
  {
   "cell_type": "markdown",
   "metadata": {},
   "source": [
    "# ML Pipeline Preparation\n",
    "Follow the instructions below to help you create your ML pipeline.\n",
    "### 1. Import libraries and load data from database.\n",
    "- Import Python libraries\n",
    "- Load dataset from database with [`read_sql_table`](https://pandas.pydata.org/pandas-docs/stable/generated/pandas.read_sql_table.html)\n",
    "- Define feature and target variables X and Y"
   ]
  },
  {
   "cell_type": "code",
   "execution_count": 63,
   "metadata": {},
   "outputs": [
    {
     "name": "stderr",
     "output_type": "stream",
     "text": [
      "[nltk_data] Downloading package punkt to /Users/ante/nltk_data...\n",
      "[nltk_data]   Package punkt is already up-to-date!\n",
      "[nltk_data] Downloading package wordnet to /Users/ante/nltk_data...\n",
      "[nltk_data]   Package wordnet is already up-to-date!\n",
      "[nltk_data] Downloading package averaged_perceptron_tagger to\n",
      "[nltk_data]     /Users/ante/nltk_data...\n",
      "[nltk_data]   Package averaged_perceptron_tagger is already up-to-\n",
      "[nltk_data]       date!\n"
     ]
    },
    {
     "data": {
      "text/plain": [
       "True"
      ]
     },
     "execution_count": 63,
     "metadata": {},
     "output_type": "execute_result"
    }
   ],
   "source": [
    "import nltk\n",
    "nltk.download('punkt')\n",
    "nltk.download('wordnet')\n",
    "nltk.download('averaged_perceptron_tagger')"
   ]
  },
  {
   "cell_type": "code",
   "execution_count": 81,
   "metadata": {},
   "outputs": [],
   "source": [
    "# import libraries\n",
    "import re\n",
    "import pickle\n",
    "import pandas as pd\n",
    "from sqlalchemy import create_engine\n",
    "from nltk.tokenize import word_tokenize\n",
    "from nltk.stem import WordNetLemmatizer\n",
    "\n",
    "from sklearn.pipeline import Pipeline, FeatureUnion\n",
    "from sklearn.model_selection import train_test_split\n",
    "from sklearn.multioutput import MultiOutputClassifier\n",
    "from sklearn.feature_extraction.text import TfidfTransformer, CountVectorizer\n",
    "from sklearn.metrics import confusion_matrix\n",
    "from sklearn.base import BaseEstimator, TransformerMixin\n",
    "from sklearn.model_selection import GridSearchCV\n",
    "from sklearn.metrics import classification_report\n",
    "from sklearn.ensemble import GradientBoostingClassifier, RandomForestClassifier, AdaBoostClassifier"
   ]
  },
  {
   "cell_type": "code",
   "execution_count": 65,
   "metadata": {},
   "outputs": [],
   "source": [
    "# load data from database\n",
    "engine = create_engine('sqlite:///disaster_message.db')\n",
    "tablename = 'DisasterMessageToDo'\n",
    "df = pd.read_sql_table(tablename, engine)\n",
    "df['related']=df['related'].map(lambda x: 1 if x == 2 else x)\n",
    "X = df['message']\n",
    "Y = df.iloc[:, 4:]"
   ]
  },
  {
   "cell_type": "markdown",
   "metadata": {},
   "source": [
    "### 2. Write a tokenization function to process your text data"
   ]
  },
  {
   "cell_type": "code",
   "execution_count": 66,
   "metadata": {},
   "outputs": [],
   "source": [
    "def tokenize(text):\n",
    "    \"\"\"\n",
    "    Tokenize the text function\n",
    "    \n",
    "    Arguments:\n",
    "        text -> Text message which needs to be tokenized\n",
    "    Output:\n",
    "        clean_tokens -> List of tokens extracted from the provided text\n",
    "    \"\"\"\n",
    "    \n",
    "    # Replace all urls with a urlplaceholder string\n",
    "    url_regex = 'http[s]?://(?:[a-zA-Z]|[0-9]|[$-_@.&+]|[!*\\(\\),]|(?:%[0-9a-fA-F][0-9a-fA-F]))+'\n",
    "    detected_urls = re.findall(url_regex, text)\n",
    "    for url in detected_urls:\n",
    "        text = text.replace('url', 'urlplaceholder')\n",
    "        \n",
    "    # Extract the word tokens from the provided text\n",
    "    tokens = word_tokenize(text)\n",
    "    \n",
    "    #Lemmanitizer to remove inflectional and derivationally related forms of a word\n",
    "    lemmatizer = WordNetLemmatizer()\n",
    "    clean_tokens = []\n",
    "    for token in tokens:\n",
    "        clean_token = lemmatizer.lemmatize(token).lower().strip()\n",
    "        clean_tokens.append(clean_token)\n",
    "        \n",
    "    return clean_tokens"
   ]
  },
  {
   "cell_type": "code",
   "execution_count": 67,
   "metadata": {},
   "outputs": [],
   "source": [
    "# Build a custom transformer which will extract the starting verb of a sentence\n",
    "class StartingVerbExtractor(BaseEstimator, TransformerMixin):\n",
    "    \"\"\"\n",
    "    Starting Verb Extractor class\n",
    "    \n",
    "    This class extract the starting verb of a sentence,\n",
    "    creating a new feature for the ML classifier\n",
    "    \"\"\"\n",
    "\n",
    "    def starting_verb(self, text):\n",
    "        sentence_list = nltk.sent_tokenize(text)\n",
    "        for sentence in sentence_list:\n",
    "            pos_tags = nltk.pos_tag(tokenize(sentence))\n",
    "            first_word, first_tag = pos_tags[0]\n",
    "            if first_tag in ['VB', 'VBP'] or first_word == 'RT':\n",
    "                return True\n",
    "        return False\n",
    "\n",
    "    # Given it is a tranformer we can return the self \n",
    "    def fit(self, X, y=None):\n",
    "        return self\n",
    "\n",
    "    def transform(self, X):\n",
    "        X_tagged = pd.Series(X).apply(self.starting_verb)\n",
    "        return pd.DataFrame(X_tagged)"
   ]
  },
  {
   "cell_type": "markdown",
   "metadata": {},
   "source": [
    "### 3. Build a machine learning pipeline\n",
    "This machine pipeline should take in the `message` column as input and output classification results on the other 36 categories in the dataset. You may find the [MultiOutputClassifier](http://scikit-learn.org/stable/modules/generated/sklearn.multioutput.MultiOutputClassifier.html) helpful for predicting multiple target variables."
   ]
  },
  {
   "cell_type": "code",
   "execution_count": 69,
   "metadata": {},
   "outputs": [],
   "source": [
    "pipeline = Pipeline([\n",
    "        ('features', FeatureUnion([\n",
    "\n",
    "            ('text_pipeline', Pipeline([\n",
    "                ('vect', CountVectorizer(tokenizer=tokenize)),\n",
    "                ('tfidf', TfidfTransformer())\n",
    "            ])),\n",
    "\n",
    "            ('starting_verb', StartingVerbExtractor())\n",
    "        ])),\n",
    "\n",
    "        ('clf', MultiOutputClassifier(AdaBoostClassifier()))\n",
    "    ])"
   ]
  },
  {
   "cell_type": "markdown",
   "metadata": {},
   "source": [
    "### 4. Train pipeline\n",
    "- Split data into train and test sets\n",
    "- Train pipeline"
   ]
  },
  {
   "cell_type": "code",
   "execution_count": 70,
   "metadata": {},
   "outputs": [],
   "source": [
    "X_train, X_test, Y_train, Y_test = train_test_split(X, Y)\n",
    "Pipeline_fit = pipeline.fit(X_train, Y_train)"
   ]
  },
  {
   "cell_type": "markdown",
   "metadata": {},
   "source": [
    "### 5. Test your model\n",
    "Report the f1 score, precision and recall for each output category of the dataset. You can do this by iterating through the columns and calling sklearn's `classification_report` on each."
   ]
  },
  {
   "cell_type": "code",
   "execution_count": 72,
   "metadata": {},
   "outputs": [
    {
     "name": "stdout",
     "output_type": "stream",
     "text": [
      "                        precision    recall  f1-score   support\n",
      "\n",
      "               related       0.81      0.95      0.87      4931\n",
      "               request       0.77      0.54      0.64      1104\n",
      "                 offer       0.00      0.00      0.00        20\n",
      "           aid_related       0.75      0.57      0.65      2654\n",
      "          medical_help       0.56      0.25      0.34       531\n",
      "      medical_products       0.70      0.35      0.46       327\n",
      "     search_and_rescue       0.55      0.18      0.28       185\n",
      "              security       0.14      0.03      0.04       116\n",
      "              military       0.67      0.31      0.42       222\n",
      "           child_alone       0.00      0.00      0.00         0\n",
      "                 water       0.77      0.65      0.70       409\n",
      "                  food       0.80      0.70      0.75       679\n",
      "               shelter       0.79      0.54      0.64       562\n",
      "              clothing       0.86      0.40      0.55        95\n",
      "                 money       0.49      0.24      0.32       139\n",
      "        missing_people       0.69      0.14      0.24        77\n",
      "              refugees       0.44      0.20      0.28       201\n",
      "                 death       0.74      0.43      0.54       314\n",
      "             other_aid       0.55      0.16      0.25       834\n",
      "infrastructure_related       0.39      0.10      0.16       405\n",
      "             transport       0.67      0.26      0.37       273\n",
      "             buildings       0.60      0.35      0.44       313\n",
      "           electricity       0.63      0.29      0.40       130\n",
      "                 tools       0.25      0.03      0.05        35\n",
      "             hospitals       0.14      0.04      0.07        67\n",
      "                 shops       0.25      0.04      0.07        25\n",
      "           aid_centers       0.17      0.05      0.08        80\n",
      "  other_infrastructure       0.31      0.08      0.13       266\n",
      "       weather_related       0.84      0.65      0.73      1762\n",
      "                floods       0.86      0.57      0.69       538\n",
      "                 storm       0.73      0.54      0.62       547\n",
      "                  fire       0.46      0.20      0.28        61\n",
      "            earthquake       0.86      0.76      0.81       602\n",
      "                  cold       0.60      0.32      0.42       119\n",
      "         other_weather       0.47      0.12      0.19       353\n",
      "         direct_report       0.72      0.50      0.59      1226\n",
      "\n",
      "             micro avg       0.77      0.58      0.66     20202\n",
      "             macro avg       0.56      0.32      0.39     20202\n",
      "          weighted avg       0.73      0.58      0.63     20202\n",
      "           samples avg       0.63      0.50      0.51     20202\n",
      "\n"
     ]
    }
   ],
   "source": [
    "Y_pred = Pipeline_fit.predict(X_test)\n",
    "print(classification_report(Y_test.values, Y_pred, target_names=Y.columns.values))"
   ]
  },
  {
   "cell_type": "markdown",
   "metadata": {},
   "source": [
    "### 6. Improve your model\n",
    "Use grid search to find better parameters. "
   ]
  },
  {
   "cell_type": "code",
   "execution_count": 78,
   "metadata": {},
   "outputs": [],
   "source": [
    "parameters = parameters = {\n",
    "        'clf__estimator__n_estimators': [10, 20, 40]\n",
    "        #'clf__estimator__learning_rate': [0.01, 0.02, 0.05]\n",
    "    }\n",
    "\n",
    "cv = GridSearchCV(pipeline, param_grid=parameters, scoring='f1_micro', n_jobs=-1)\n",
    "cv.fit(X_train, Y_train)\n",
    "y_pred = cv.predict(X_test)"
   ]
  },
  {
   "cell_type": "markdown",
   "metadata": {},
   "source": [
    "### 7. Test your model\n",
    "Show the accuracy, precision, and recall of the tuned model.  \n",
    "\n",
    "Since this project focuses on code quality, process, and  pipelines, there is no minimum performance metric needed to pass. However, make sure to fine tune your models for accuracy, precision and recall to make your project stand out - especially for your portfolio!"
   ]
  },
  {
   "cell_type": "code",
   "execution_count": 79,
   "metadata": {},
   "outputs": [
    {
     "name": "stdout",
     "output_type": "stream",
     "text": [
      "                        precision    recall  f1-score   support\n",
      "\n",
      "               related       0.81      0.95      0.87      4931\n",
      "               request       0.77      0.54      0.64      1104\n",
      "                 offer       0.00      0.00      0.00        20\n",
      "           aid_related       0.75      0.57      0.65      2654\n",
      "          medical_help       0.56      0.25      0.34       531\n",
      "      medical_products       0.70      0.35      0.46       327\n",
      "     search_and_rescue       0.55      0.18      0.28       185\n",
      "              security       0.14      0.03      0.04       116\n",
      "              military       0.67      0.31      0.42       222\n",
      "           child_alone       0.00      0.00      0.00         0\n",
      "                 water       0.77      0.65      0.70       409\n",
      "                  food       0.80      0.70      0.75       679\n",
      "               shelter       0.79      0.54      0.64       562\n",
      "              clothing       0.86      0.40      0.55        95\n",
      "                 money       0.49      0.24      0.32       139\n",
      "        missing_people       0.69      0.14      0.24        77\n",
      "              refugees       0.44      0.20      0.28       201\n",
      "                 death       0.74      0.43      0.54       314\n",
      "             other_aid       0.55      0.16      0.25       834\n",
      "infrastructure_related       0.39      0.10      0.16       405\n",
      "             transport       0.67      0.26      0.37       273\n",
      "             buildings       0.60      0.35      0.44       313\n",
      "           electricity       0.63      0.29      0.40       130\n",
      "                 tools       0.25      0.03      0.05        35\n",
      "             hospitals       0.14      0.04      0.07        67\n",
      "                 shops       0.25      0.04      0.07        25\n",
      "           aid_centers       0.17      0.05      0.08        80\n",
      "  other_infrastructure       0.31      0.08      0.13       266\n",
      "       weather_related       0.84      0.65      0.73      1762\n",
      "                floods       0.86      0.57      0.69       538\n",
      "                 storm       0.73      0.54      0.62       547\n",
      "                  fire       0.46      0.20      0.28        61\n",
      "            earthquake       0.86      0.76      0.81       602\n",
      "                  cold       0.60      0.32      0.42       119\n",
      "         other_weather       0.47      0.12      0.19       353\n",
      "         direct_report       0.72      0.50      0.59      1226\n",
      "\n",
      "             micro avg       0.77      0.58      0.66     20202\n",
      "             macro avg       0.56      0.32      0.39     20202\n",
      "          weighted avg       0.73      0.58      0.63     20202\n",
      "           samples avg       0.63      0.50      0.51     20202\n",
      "\n"
     ]
    },
    {
     "name": "stderr",
     "output_type": "stream",
     "text": [
      "/anaconda3/lib/python3.7/site-packages/sklearn/metrics/classification.py:1143: UndefinedMetricWarning: Precision and F-score are ill-defined and being set to 0.0 in labels with no predicted samples.\n",
      "  'precision', 'predicted', average, warn_for)\n",
      "/anaconda3/lib/python3.7/site-packages/sklearn/metrics/classification.py:1145: UndefinedMetricWarning: Recall and F-score are ill-defined and being set to 0.0 in labels with no true samples.\n",
      "  'recall', 'true', average, warn_for)\n",
      "/anaconda3/lib/python3.7/site-packages/sklearn/metrics/classification.py:1143: UndefinedMetricWarning: Precision and F-score are ill-defined and being set to 0.0 in samples with no predicted labels.\n",
      "  'precision', 'predicted', average, warn_for)\n",
      "/anaconda3/lib/python3.7/site-packages/sklearn/metrics/classification.py:1145: UndefinedMetricWarning: Recall and F-score are ill-defined and being set to 0.0 in samples with no true labels.\n",
      "  'recall', 'true', average, warn_for)\n"
     ]
    }
   ],
   "source": [
    "print(classification_report(Y_test.values, Y_pred, target_names=Y.columns.values))"
   ]
  },
  {
   "cell_type": "markdown",
   "metadata": {},
   "source": [
    "### 8. Export your model as a pickle file"
   ]
  },
  {
   "cell_type": "code",
   "execution_count": 82,
   "metadata": {},
   "outputs": [],
   "source": [
    "m = pickle.dumps('classifier.pkl')"
   ]
  },
  {
   "cell_type": "code",
   "execution_count": null,
   "metadata": {},
   "outputs": [],
   "source": []
  }
 ],
 "metadata": {
  "kernelspec": {
   "display_name": "Python 3",
   "language": "python",
   "name": "python3"
  },
  "language_info": {
   "codemirror_mode": {
    "name": "ipython",
    "version": 3
   },
   "file_extension": ".py",
   "mimetype": "text/x-python",
   "name": "python",
   "nbconvert_exporter": "python",
   "pygments_lexer": "ipython3",
   "version": "3.7.1"
  }
 },
 "nbformat": 4,
 "nbformat_minor": 2
}
